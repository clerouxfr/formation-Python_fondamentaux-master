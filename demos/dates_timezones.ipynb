{
 "cells": [
  {
   "cell_type": "markdown",
   "metadata": {},
   "source": [
    "# Les dates et les timezone\n",
    "\n",
    "La librairie standard ne définit pas de timezone. Elle fournit une classe `timezone`, spécialisation simple de `tzinfo` qui s'instancie en passant en paramètre un `timedelta`. Celui-ci doit avoir +/- 24 heures."
   ]
  },
  {
   "cell_type": "code",
   "execution_count": null,
   "metadata": {},
   "outputs": [],
   "source": [
    "import datetime as dt\n",
    "\n",
    "print(\"Maintenant naif  :\", dt.datetime.now())\n",
    "\n",
    "instant = dt.datetime.now(dt.timezone(dt.timedelta(hours=2)))\n",
    "\n",
    "print(\"Maintenant aware :\", instant)\n",
    "print(\"Info timezone    :\", instant.tzinfo)"
   ]
  },
  {
   "cell_type": "code",
   "execution_count": null,
   "metadata": {},
   "outputs": [],
   "source": [
    "instant = dt.datetime.now(dt.timezone(dt.timedelta(hours=2), name=\"France\"))\n",
    "print(\"Maintenant aware :\", instant)\n",
    "print(\"Info timezone    :\", instant.tzinfo)"
   ]
  },
  {
   "cell_type": "code",
   "execution_count": null,
   "metadata": {},
   "outputs": [],
   "source": [
    "instant = dt.datetime.now(dt.timezone(dt.timedelta(hours=2), name=\"plus_2\"))\n",
    "autre_instant = dt.datetime.now(dt.timezone(dt.timedelta(hours=1), name=\"plus_1\"))\n",
    "print(\"Maintenant aware 2 :\", instant)\n",
    "print(\"Maintenant aware 1 :\", autre_instant)"
   ]
  },
  {
   "cell_type": "code",
   "execution_count": null,
   "metadata": {},
   "outputs": [],
   "source": [
    "autre_instant - instant"
   ]
  },
  {
   "cell_type": "markdown",
   "metadata": {},
   "source": [
    "### Avec la librairie `pytz`\n",
    "Dans la cellule suivante, nous définissons un timezone pour la France"
   ]
  },
  {
   "cell_type": "code",
   "execution_count": null,
   "metadata": {},
   "outputs": [],
   "source": [
    "import pytz\n",
    "paris_tz = pytz.timezone('Europe/Paris')\n",
    "print(paris_tz)\n",
    "paris_tz"
   ]
  },
  {
   "cell_type": "markdown",
   "metadata": {},
   "source": [
    "Les valeurs possibles pour les timezone sont fournies par une constante."
   ]
  },
  {
   "cell_type": "code",
   "execution_count": null,
   "metadata": {},
   "outputs": [],
   "source": [
    "pytz.all_timezones"
   ]
  },
  {
   "cell_type": "markdown",
   "metadata": {},
   "source": [
    "Nous créons d'abord une date naive à laquelle nous renseignons le timezone."
   ]
  },
  {
   "cell_type": "code",
   "execution_count": 7,
   "metadata": {},
   "outputs": [
    {
     "name": "stdout",
     "output_type": "stream",
     "text": [
      "Instant actuel naif: 2021-12-01 12:20:05.042188\n",
      "France, aware      : 2021-12-01 12:20:05.042188+01:00\n"
     ]
    }
   ],
   "source": [
    "now_naive = dt.datetime.now()\n",
    "print(\"Instant actuel naif:\", now_naive)\n",
    "\n",
    "h_paris_aware = paris_tz.localize(now_naive)\n",
    "print(\"France, aware      :\", h_paris_aware)"
   ]
  },
  {
   "cell_type": "markdown",
   "metadata": {},
   "source": [
    "Nous utilisons cette même date pour créer une date *aware* à New York."
   ]
  },
  {
   "cell_type": "code",
   "execution_count": 9,
   "metadata": {},
   "outputs": [
    {
     "name": "stdout",
     "output_type": "stream",
     "text": [
      "Instant actuel naif: 2021-12-01 12:20:05.042188\n",
      "New York, aware    : 2021-12-01 12:20:05.042188-05:00\n"
     ]
    }
   ],
   "source": [
    "new_york_tz = pytz.timezone('America/New_York')\n",
    "\n",
    "print(\"Instant actuel naif:\", now_naive)\n",
    "\n",
    "h_new_york_aware = new_york_tz.localize(now_naive)\n",
    "print(\"New York, aware    :\", h_new_york_aware)"
   ]
  },
  {
   "cell_type": "markdown",
   "metadata": {},
   "source": [
    "Nous changeons le timezone de cette date *aware* des US en France."
   ]
  },
  {
   "cell_type": "code",
   "execution_count": null,
   "metadata": {},
   "outputs": [],
   "source": [
    "h_new_york_in_paris = h_new_york_aware.astimezone(paris_tz)\n",
    "print(\"France from US :\", h_new_york_in_paris)"
   ]
  },
  {
   "cell_type": "markdown",
   "metadata": {},
   "source": [
    "Cette nouvelle date n'affiche pas les même heures, mais n'a pas non plus le même timezone. Nous pouvons vérifier qu'il s'agit de la même date."
   ]
  },
  {
   "cell_type": "code",
   "execution_count": null,
   "metadata": {},
   "outputs": [],
   "source": [
    "h_new_york_aware == h_new_york_in_paris"
   ]
  },
  {
   "cell_type": "markdown",
   "metadata": {},
   "source": [
    "Les deux dates localisées contiennent la même information d'heure. Nous vérifions qu'il ne s'agit pas du même instant et qu'il y a un décalage d'une heure."
   ]
  },
  {
   "cell_type": "code",
   "execution_count": null,
   "metadata": {},
   "outputs": [],
   "source": [
    "print(\"Heure US   :\", h_new_york_aware.hour)\n",
    "print(\"Heure Fr   :\", h_paris_aware.hour)\n",
    "print(\"Différence :\", h_new_york_aware - h_paris_aware)"
   ]
  },
  {
   "cell_type": "markdown",
   "metadata": {},
   "source": [
    "### Prise en compte du changement d'heure\n",
    "Les problèmes de timezone ne se limitent pas au fuseau horaire mais également à la différence en fonction du changement d'heure. Ci dessous, nous définissons deux instants à minuit pour un jour en heure d'hiver et un jour en heure d'été."
   ]
  },
  {
   "cell_type": "code",
   "execution_count": null,
   "metadata": {},
   "outputs": [],
   "source": [
    "winter_day = paris_tz.localize(dt.datetime(2019, 3, 30))\n",
    "summer_day = paris_tz.localize(dt.datetime(2019, 4, 2))\n",
    "\n",
    "print(\"Hiver :\", winter_day)\n",
    "print(\"Été.  :\", summer_day)"
   ]
  },
  {
   "cell_type": "code",
   "execution_count": null,
   "metadata": {},
   "outputs": [],
   "source": [
    "print(\"Différence :\", summer_day - winter_day)"
   ]
  },
  {
   "cell_type": "code",
   "execution_count": null,
   "metadata": {},
   "outputs": [],
   "source": [
    "after_3_days = winter_day + dt.timedelta(days=3)\n",
    "print(\"3 jours plus tard :\", after_3_days)"
   ]
  },
  {
   "cell_type": "code",
   "execution_count": null,
   "metadata": {},
   "outputs": [],
   "source": [
    "print(\"3 jours plus tard relocalisé :\", after_3_days.astimezone(paris_tz))"
   ]
  },
  {
   "cell_type": "markdown",
   "metadata": {},
   "source": [
    "Voir donc les bonnes pratiques pour manipuler les dates comme :"
   ]
  },
  {
   "cell_type": "code",
   "execution_count": null,
   "metadata": {},
   "outputs": [],
   "source": [
    "utc_tz = pytz.timezone('UTC')"
   ]
  },
  {
   "cell_type": "code",
   "execution_count": null,
   "metadata": {},
   "outputs": [],
   "source": [
    "meeting = dt.datetime(2020, 10, 15, 15, 30)"
   ]
  },
  {
   "cell_type": "code",
   "execution_count": null,
   "metadata": {},
   "outputs": [],
   "source": [
    "paris_tz = pytz.timezone('Europe/Paris')\n",
    "meeting = meeting.astimezone(paris_tz).astimezone(utc_tz)"
   ]
  },
  {
   "cell_type": "code",
   "execution_count": null,
   "metadata": {},
   "outputs": [],
   "source": [
    "print(meeting)"
   ]
  },
  {
   "cell_type": "code",
   "execution_count": null,
   "metadata": {},
   "outputs": [],
   "source": [
    "new_york_tz = pytz.timezone('America/New_York')\n",
    "print(f\"for New Yoerkers : {meeting.astimezone(new_york_tz)}\")"
   ]
  },
  {
   "cell_type": "code",
   "execution_count": null,
   "metadata": {},
   "outputs": [],
   "source": []
  }
 ],
 "metadata": {
  "kernelspec": {
   "display_name": "Python 3 (ipykernel)",
   "language": "python",
   "name": "python3"
  },
  "language_info": {
   "codemirror_mode": {
    "name": "ipython",
    "version": 3
   },
   "file_extension": ".py",
   "mimetype": "text/x-python",
   "name": "python",
   "nbconvert_exporter": "python",
   "pygments_lexer": "ipython3",
   "version": "3.9.6"
  }
 },
 "nbformat": 4,
 "nbformat_minor": 2
}
